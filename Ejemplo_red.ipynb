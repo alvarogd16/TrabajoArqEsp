{
 "cells": [
  {
   "cell_type": "markdown",
   "id": "00264cca",
   "metadata": {},
   "source": [
    "# Red convolucional con mecanismos atencionales\n",
    "\n",
    "## Espaciales y de canales"
   ]
  },
  {
   "cell_type": "code",
   "execution_count": 1,
   "id": "e0d19ade",
   "metadata": {},
   "outputs": [],
   "source": [
    "import torch\n",
    "import math\n",
    "import torch.nn as nn\n",
    "from torch.autograd import Variable\n",
    "import torch.utils.data as Data"
   ]
  },
  {
   "cell_type": "code",
   "execution_count": 2,
   "id": "61723f3f",
   "metadata": {},
   "outputs": [
    {
     "data": {
      "text/plain": [
       "<torch._C.Generator at 0x7fe2980f5910>"
      ]
     },
     "execution_count": 2,
     "metadata": {},
     "output_type": "execute_result"
    }
   ],
   "source": [
    "torch.manual_seed(1)"
   ]
  },
  {
   "cell_type": "markdown",
   "id": "8f48557c",
   "metadata": {},
   "source": [
    "Definición de algunas variables"
   ]
  },
  {
   "cell_type": "code",
   "execution_count": 3,
   "id": "4f1858d1",
   "metadata": {},
   "outputs": [],
   "source": [
    "epochs=50\n",
    "batch_size=100\n",
    "lr=0.001"
   ]
  },
  {
   "cell_type": "markdown",
   "id": "15bbe9db",
   "metadata": {},
   "source": [
    "Carga de datos del dataset CIFAR10"
   ]
  },
  {
   "cell_type": "code",
   "execution_count": 4,
   "id": "c86c81ea",
   "metadata": {},
   "outputs": [
    {
     "name": "stdout",
     "output_type": "stream",
     "text": [
      "Files already downloaded and verified\n",
      "Files already downloaded and verified\n"
     ]
    }
   ],
   "source": [
    "import torchvision\n",
    "\n",
    "train_data = torchvision.datasets.CIFAR10(\n",
    "    root='./mnist/',\n",
    "    train=True,\n",
    "    transform=torchvision.transforms.ToTensor(),\n",
    "    download=True,                                  \n",
    ")\n",
    "\n",
    "test_data = torchvision.datasets.CIFAR10(\n",
    "    root='./mnist/',\n",
    "    train=False,\n",
    "    transform=torchvision.transforms.ToTensor(),\n",
    "    download=True,\n",
    ")"
   ]
  },
  {
   "cell_type": "code",
   "execution_count": 5,
   "id": "81dfa8c0",
   "metadata": {},
   "outputs": [
    {
     "name": "stdout",
     "output_type": "stream",
     "text": [
      "50000\n",
      "torch.Size([3, 32, 32])\n",
      "10000\n",
      "torch.Size([3, 32, 32])\n"
     ]
    }
   ],
   "source": [
    "train_img, train_label = train_data.__getitem__(0)\n",
    "test_img, test_label = test_data.__getitem__(0)\n",
    "\n",
    "print(len(train_data))\n",
    "print(train_img.size())\n",
    "\n",
    "print(len(test_data))\n",
    "print(test_img.size())"
   ]
  },
  {
   "cell_type": "code",
   "execution_count": 6,
   "id": "55c964ad",
   "metadata": {},
   "outputs": [],
   "source": [
    "train_loader = Data.DataLoader(dataset=train_data, batch_size=batch_size, shuffle=True)\n",
    "test_loader  = Data.DataLoader(dataset=test_data, batch_size=batch_size, shuffle=False)"
   ]
  },
  {
   "cell_type": "code",
   "execution_count": 7,
   "id": "94405e9b",
   "metadata": {},
   "outputs": [],
   "source": [
    "import torch.nn.functional as F\n",
    "\n",
    "class BasicConv(nn.Module):\n",
    "    def __init__(self, in_planes, out_planes, kernel_size, stride=1, padding=0, dilation=1, groups=1, relu=True, bn=True, bias=False):\n",
    "        super(BasicConv, self).__init__()\n",
    "        self.out_channels = out_planes\n",
    "        self.conv = nn.Conv2d(in_planes, out_planes, kernel_size=kernel_size, stride=stride, padding=padding, dilation=dilation, groups=groups, bias=bias)\n",
    "        self.bn = nn.BatchNorm2d(out_planes,eps=1e-5, momentum=0.01, affine=True) if bn else None\n",
    "        self.relu = nn.ReLU() if relu else None\n",
    "\n",
    "    def forward(self, x):\n",
    "        x = self.conv(x)\n",
    "        if self.bn is not None:\n",
    "            x = self.bn(x)\n",
    "        if self.relu is not None:\n",
    "            x = self.relu(x)\n",
    "        return x\n",
    "\n",
    "class Flatten(nn.Module):\n",
    "    def forward(self, x):\n",
    "        return x.view(x.size(0), -1)\n",
    "\n",
    "class ChannelGate(nn.Module):\n",
    "    def __init__(self, in_planes, reduction_ratio=16):\n",
    "        super(ChannelGate, self).__init__()\n",
    "        self.avg_pool = nn.AdaptiveAvgPool2d(1)\n",
    "        self.max_pool = nn.AdaptiveMaxPool2d(1)\n",
    "           \n",
    "        self.fc = nn.Sequential(nn.Conv2d(in_planes, in_planes // reduction_ratio, 1, bias=False),\n",
    "                               nn.ReLU(),\n",
    "                               nn.Conv2d(in_planes // reduction_ratio, in_planes, 1, bias=False))\n",
    "        self.sigmoid = nn.Sigmoid()\n",
    "\n",
    "    def forward(self, x):\n",
    "        avg_out = self.fc(self.avg_pool(x))\n",
    "        max_out = self.fc(self.max_pool(x))\n",
    "        out = avg_out + max_out\n",
    "        return self.sigmoid(out) * x\n",
    "\n",
    "def logsumexp_2d(tensor):\n",
    "    tensor_flatten = tensor.view(tensor.size(0), tensor.size(1), -1)\n",
    "    s, _ = torch.max(tensor_flatten, dim=2, keepdim=True)\n",
    "    outputs = s + (tensor_flatten - s).exp().sum(dim=2, keepdim=True).log()\n",
    "    return outputs\n",
    "\n",
    "class ChannelPool(nn.Module):\n",
    "    def forward(self, x):\n",
    "        return torch.cat( (torch.max(x,1)[0].unsqueeze(1), torch.mean(x,1).unsqueeze(1)), dim=1 )\n",
    "\n",
    "class SpatialGate(nn.Module):\n",
    "    def __init__(self):\n",
    "        super(SpatialGate, self).__init__()\n",
    "        kernel_size = 7\n",
    "        self.compress = ChannelPool()\n",
    "        self.spatial = BasicConv(2, 1, kernel_size, stride=1, padding=(kernel_size-1) // 2, relu=False)\n",
    "    def forward(self, x):\n",
    "        x_compress = self.compress(x)\n",
    "        x_out = self.spatial(x_compress)\n",
    "        scale = F.sigmoid(x_out) # broadcasting\n",
    "        return x * scale\n",
    "\n",
    "class CBAM(nn.Module):\n",
    "    def __init__(self, gate_channels, reduction_ratio=16, spatial=True, channel=True):\n",
    "        super(CBAM, self).__init__()\n",
    "        self.spatial=spatial\n",
    "        self.channel=channel\n",
    "        \n",
    "        if channel:\n",
    "            self.ChannelGate = ChannelGate(gate_channels, reduction_ratio=reduction_ratio)\n",
    "        if spatial:\n",
    "            self.SpatialGate = SpatialGate()\n",
    "    def forward(self, x):\n",
    "        if self.channel:\n",
    "            x = self.ChannelGate(x)\n",
    "        if self.spatial:\n",
    "            x = self.SpatialGate(x)\n",
    "        return x\n",
    "    \n",
    "class Convolutional(nn.Module):\n",
    "    def __init__(self, in_size):\n",
    "        super(Convolutional, self).__init__()\n",
    "        self.conv1 = nn.Conv2d(in_size, 6, 5)\n",
    "        self.pool = nn.MaxPool2d(2, 2)\n",
    "        self.conv2 = nn.Conv2d(6, 16, 5)\n",
    "\n",
    "    def forward(self, x):\n",
    "        x = self.pool(F.relu(self.conv1(x)))\n",
    "        x = self.pool(F.relu(self.conv2(x)))\n",
    "        return x\n",
    "    \n",
    "class model (nn.Module):\n",
    "    def __init__(self, spatial_=True, channel_=True):\n",
    "        super(model, self).__init__()\n",
    "        \n",
    "        self.att = channel_ or spatial_\n",
    "        \n",
    "        self.conv_ini = nn.Conv2d(3, 32, 1)\n",
    "        \n",
    "        if channel_ or spatial_:\n",
    "            self.layer1 = CBAM(32, spatial=spatial_, channel=channel_, reduction_ratio=16)\n",
    "        self.layer2 = Convolutional(32)\n",
    "        \n",
    "        self.fc = nn.Linear(400, 10)\n",
    "    \n",
    "    def forward(self, x):\n",
    "        x = self.conv_ini(x)\n",
    "        \n",
    "        if self.att:\n",
    "            x = self.layer1(x)\n",
    "        x = self.layer2(x)\n",
    "        x = x.view(x.size(0), -1)\n",
    "        x = self.fc(x)\n",
    "        return x\n",
    "    \n",
    "modelNONE = model(spatial_=False, channel_=False).cuda()\n",
    "modelS = model(channel_=False).cuda()\n",
    "modelC = model(spatial_=False).cuda()\n",
    "modelSC = model().cuda()"
   ]
  },
  {
   "cell_type": "code",
   "execution_count": 8,
   "id": "f5745e77",
   "metadata": {},
   "outputs": [],
   "source": [
    "def get_accuracy(model, dataloader):\n",
    "    correct = 0\n",
    "    total = 0\n",
    "    model.eval()\n",
    "    for imgs, labels in dataloader:\n",
    "        output = model(imgs.cuda())\n",
    "        labels = labels.cuda()\n",
    "        pred = output.max(1, keepdim=True)[1] # get the index of the max logit\n",
    "        correct += pred.eq(labels.view_as(pred)).sum().item()\n",
    "        total += imgs.shape[0]\n",
    "    model.train()\n",
    "    return correct / total"
   ]
  },
  {
   "cell_type": "code",
   "execution_count": null,
   "id": "6c80478a",
   "metadata": {},
   "outputs": [
    {
     "name": "stdout",
     "output_type": "stream",
     "text": [
      "Epoch:  0 | train loss: 1.9539 | test loss:  1.7896 | train acc:  0.3523 | test acc:   0.3558\n",
      "Epoch:  1 | train loss: 1.7536 | test loss:  1.7003 | train acc:  0.4027 | test acc:   0.3954\n",
      "Epoch:  2 | train loss: 1.6786 | test loss:  1.6760 | train acc:  0.4176 | test acc:   0.4082\n",
      "Epoch:  3 | train loss: 1.6326 | test loss:  1.6113 | train acc:  0.4412 | test acc:   0.4278\n",
      "Epoch:  4 | train loss: 1.6007 | test loss:  1.6029 | train acc:  0.4467 | test acc:   0.4332\n",
      "Epoch:  5 | train loss: 1.5761 | test loss:  1.5723 | train acc:  0.4583 | test acc:   0.4494\n",
      "Epoch:  6 | train loss: 1.5525 | test loss:  1.5487 | train acc:  0.4670 | test acc:   0.4577\n"
     ]
    }
   ],
   "source": [
    "model = modelC\n",
    "\n",
    "optimizer = torch.optim.Adam(model.parameters())\n",
    "loss_func = nn.CrossEntropyLoss().cuda()\n",
    "\n",
    "for epoch in range(epochs):\n",
    "    model.train()\n",
    "    lossestr = []\n",
    "    for step, (x, y) in enumerate(train_loader):\n",
    "        x = torch.autograd.Variable(x.cuda())\n",
    "        y = torch.autograd.Variable(y.cuda())\n",
    "        \n",
    "        out = model(x)\n",
    "\n",
    "#         print(out)\n",
    "#         print(out.shape)\n",
    "        loss = loss_func(out, y)\n",
    "        lossestr.append(loss.item())\n",
    "        \n",
    "        optimizer.zero_grad()\n",
    "        loss.backward()                    \n",
    "        optimizer.step()                   \n",
    "\n",
    "    if epoch % 1 == 0:\n",
    "        model.eval()\n",
    "        with torch.no_grad():\n",
    "            losseste = []\n",
    "            for step, (x, y) in enumerate(test_loader):\n",
    "                x = torch.autograd.Variable(x.cuda())\n",
    "                y = torch.autograd.Variable(y.cuda())\n",
    "                out = model(x)\n",
    "                loss = loss_func(out, y)\n",
    "                losseste.append(loss.item())\n",
    "        model.train()\n",
    "        acctr = get_accuracy(model, train_loader)\n",
    "        accte = get_accuracy(model, test_loader)\n",
    "\n",
    "        print('Epoch: ', epoch, '| train loss: %.4f' % (sum(lossestr)/len(lossestr)), \n",
    "                                '| test loss:  %.4f' % (sum(losseste)/len(losseste)),\n",
    "                                '| train acc:  %.4f' % acctr,\n",
    "                                '| test acc:   %.4f' % accte)"
   ]
  },
  {
   "cell_type": "code",
   "execution_count": null,
   "id": "d6cb9011",
   "metadata": {},
   "outputs": [],
   "source": [
    "Epoch:  0 | train loss: 1.8325 | test loss:  1.6151 | train acc:  0.4251 | test acc:   0.4238\n",
    "Epoch:  1 | train loss: 1.5622 | test loss:  1.5016 | train acc:  0.4664 | test acc:   0.4625\n",
    "Epoch:  2 | train loss: 1.4625 | test loss:  1.4221 | train acc:  0.4975 | test acc:   0.4903\n",
    "Epoch:  3 | train loss: 1.3947 | test loss:  1.3782 | train acc:  0.5152 | test acc:   0.5101"
   ]
  },
  {
   "cell_type": "markdown",
   "id": "7083703d",
   "metadata": {},
   "source": [
    "https://github.com/Jongchan/attention-module"
   ]
  }
 ],
 "metadata": {
  "kernelspec": {
   "display_name": "Python 3 (ipykernel)",
   "language": "python",
   "name": "python3"
  },
  "language_info": {
   "codemirror_mode": {
    "name": "ipython",
    "version": 3
   },
   "file_extension": ".py",
   "mimetype": "text/x-python",
   "name": "python",
   "nbconvert_exporter": "python",
   "pygments_lexer": "ipython3",
   "version": "3.9.7"
  }
 },
 "nbformat": 4,
 "nbformat_minor": 5
}
